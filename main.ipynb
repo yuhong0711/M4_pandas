{
 "cells": [
  {
   "cell_type": "code",
   "execution_count": 92,
   "id": "a73af240-3607-4a89-9c43-ea8253b16adb",
   "metadata": {},
   "outputs": [
    {
     "name": "stdout",
     "output_type": "stream",
     "text": [
      "Financial Analysis\n",
      "----------------------------\n",
      "Total Months: 344\n",
      "Total : $153530312\n",
      "Average Change: $446309\n",
      "Greatest Increase in Profits: 1170593\n",
      "Greatest Decrease in Profits: -1196225\n"
     ]
    }
   ],
   "source": [
    "# Import the pathlib and csv library\n",
    "from pathlib import Path\n",
    "import csv\n",
    "\n",
    "# Set the file path\n",
    "csvpath = Path(\"./Resources/budget_data.csv\")\n",
    "\n",
    "# Initialize dictionary\n",
    "analysis = {}\n",
    "\n",
    "# Open the input path as a file object\n",
    "with open(csvpath, 'r') as csvfile:\n",
    "\n",
    "    csvreader = csv.reader(csvfile, delimiter=',')\n",
    "    csv_header = next(csvreader)\n",
    "         \n",
    "    for row in csvreader:\n",
    "        mth = row[0]\n",
    "        pnl = int(row[1])\n",
    "        \n",
    "        if mth not in analysis.keys():\n",
    "            analysis[mth] = {\"mth\": mth, \"pnl\": pnl}\n",
    "        else:\n",
    "            analysis[mth][\"mth\"] += mth\n",
    "            analysis[mth][\"pnl\"] += pnl\n",
    "            \n",
    "header = [\"mth\",\"pnl\"]\n",
    "        \n",
    "# Initialize metric variables\n",
    "avg_pnl = 0\n",
    "max_pnl = 0\n",
    "min_pnl = 0\n",
    "total_pnl = 0\n",
    "count_pnl = 0\n",
    "count_mth = 0\n",
    "\n",
    "# Calculate the max, mean, and average of the list of salaries\n",
    "for pnl in pnls:\n",
    "\n",
    "    # Sum the total and count variables\n",
    "    total_pnl += pnl\n",
    "    count_pnl += 1\n",
    "    count_mth += 1\n",
    "    \n",
    "    # Calculate the average salary, round to the nearest 2 decimal places\n",
    "    avg_pnl = round(total_pnl / count_pnl, 2)\n",
    "\n",
    "    # Logic to determine min and max salaries\n",
    "    if min_pnl == 0:\n",
    "        min_pnl = pnl\n",
    "    elif pnl > max_pnl:\n",
    "        max_pnl = pnl\n",
    "    elif pnl < min_pnl:\n",
    "        min_pnl = pnl\n",
    "\n",
    "# Print the metrics\n",
    "\n",
    "print(\"Financial Analysis\\n----------------------------\")\n",
    "print(f\"Total Months: {count_pnl}\")\n",
    "print(f\"Total : ${int(total_pnl)}\")\n",
    "print(f\"Average Change: ${int(avg_pnl)}\")\n",
    "print(f\"Greatest Increase in Profits: {int(max_pnl)}\")\n",
    "print(f\"Greatest Decrease in Profits: {int(min_pnl)}\")\n"
   ]
  },
  {
   "cell_type": "code",
   "execution_count": null,
   "id": "42813074-03ae-4c04-a2ff-720cf12c08ba",
   "metadata": {},
   "outputs": [],
   "source": []
  }
 ],
 "metadata": {
  "kernelspec": {
   "display_name": "Python 3 (ipykernel)",
   "language": "python",
   "name": "python3"
  },
  "language_info": {
   "codemirror_mode": {
    "name": "ipython",
    "version": 3
   },
   "file_extension": ".py",
   "mimetype": "text/x-python",
   "name": "python",
   "nbconvert_exporter": "python",
   "pygments_lexer": "ipython3",
   "version": "3.9.12"
  }
 },
 "nbformat": 4,
 "nbformat_minor": 5
}
